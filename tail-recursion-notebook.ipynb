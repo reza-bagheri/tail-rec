{
 "cells": [
  {
   "cell_type": "code",
   "execution_count": null,
   "metadata": {},
   "outputs": [],
   "source": [
    "import inspect\n",
    "import dis\n",
    "import sys\n",
    "import timeit\n",
    "from tailrec import tail_recursion"
   ]
  },
  {
   "cell_type": "code",
   "execution_count": 2,
   "metadata": {},
   "outputs": [
    {
     "data": {
      "text/plain": [
       "<frame at 0x000001FDB5704510, file '<ipython-input-2-cc2ee11bb2e7>', line 1, code <module>>"
      ]
     },
     "execution_count": 2,
     "metadata": {},
     "output_type": "execute_result"
    }
   ],
   "source": [
    "inspect.stack()[0][0]"
   ]
  },
  {
   "cell_type": "code",
   "execution_count": 3,
   "metadata": {},
   "outputs": [
    {
     "data": {
      "text/plain": [
       "<frame at 0x000001FDB51656F8, file '<ipython-input-3-249520cb4acc>', line 1, code <module>>"
      ]
     },
     "execution_count": 3,
     "metadata": {},
     "output_type": "execute_result"
    }
   ],
   "source": [
    "inspect.currentframe()"
   ]
  },
  {
   "cell_type": "code",
   "execution_count": 34,
   "metadata": {},
   "outputs": [
    {
     "name": "stdout",
     "output_type": "stream",
     "text": [
      "FrameInfo(frame=<frame at 0x000001FDB52AC908, file '<ipython-input-34-3128af912523>', line 3, code <module>>, filename='<ipython-input-34-3128af912523>', lineno=3, function='<module>', code_context=['print(inspect.stack()[0], \"\\\\n\")\\n'], index=0) \n",
      "\n",
      "[FrameInfo(frame=<frame at 0x000001FDB520E1C8, file '<ipython-input-34-3128af912523>', line 6, code f>, filename='<ipython-input-34-3128af912523>', lineno=6, function='f', code_context=['    print(inspect.stack()[0:2], \"\\\\n\")\\n'], index=0), FrameInfo(frame=<frame at 0x000001FDB50C4938, file '<ipython-input-34-3128af912523>', line 8, code <module>>, filename='<ipython-input-34-3128af912523>', lineno=8, function='<module>', code_context=['y = f(a)\\n'], index=0)] \n",
      "\n",
      "FrameInfo(frame=<frame at 0x000001FDB52AFD88, file '<ipython-input-34-3128af912523>', line 9, code <module>>, filename='<ipython-input-34-3128af912523>', lineno=9, function='<module>', code_context=['y = f(a)\\n', 'print(inspect.stack(3)[0])\\n', 'print(y)\\n'], index=1)\n",
      "3\n"
     ]
    }
   ],
   "source": [
    "# Listing 2\n",
    "a = 1\n",
    "print(inspect.stack()[0], \"\\n\")\n",
    "def f(x):\n",
    "    b=2\n",
    "    print(inspect.stack()[0:2], \"\\n\")\n",
    "    return x+b\n",
    "y = f(a)\n",
    "print(inspect.stack(3)[0])\n",
    "print(y)"
   ]
  },
  {
   "cell_type": "code",
   "execution_count": 5,
   "metadata": {},
   "outputs": [
    {
     "name": "stdout",
     "output_type": "stream",
     "text": [
      "<code object f at 0x000001FDB5844390, file \"<ipython-input-5-6a2fc4ce42af>\", line 3> \n",
      "\n",
      "<frame at 0x000001FDB5165278, file '<ipython-input-5-6a2fc4ce42af>', line 9, code <module>> \n",
      "\n",
      "{'x': 1, 'b': 2}\n"
     ]
    }
   ],
   "source": [
    "# Listing 3\n",
    "a = 1\n",
    "def f(x):\n",
    "    b=2\n",
    "    print(inspect.currentframe().f_code, \"\\n\")\n",
    "    print(inspect.currentframe().f_back, \"\\n\")\n",
    "    print(inspect.currentframe().f_locals)\n",
    "    return x+b\n",
    "y = f(a)"
   ]
  },
  {
   "cell_type": "code",
   "execution_count": 6,
   "metadata": {},
   "outputs": [],
   "source": [
    "def print_frames(frame_list):\n",
    "    module_frame_index = [i for i, f in enumerate(frame_list) if f.function == '<module>'][0]\n",
    "    for i in range(module_frame_index):\n",
    "        d = frame_list[i][0].f_locals\n",
    "        local_vars = {x: d[x] for x in d}\n",
    "        print(\"  [Frame {} '{}': {}]\".format(module_frame_index - i, frame_list[i].function, local_vars))\n",
    "    print(\"  [Frame '<module>']\\n\")"
   ]
  },
  {
   "cell_type": "code",
   "execution_count": 7,
   "metadata": {},
   "outputs": [
    {
     "name": "stdout",
     "output_type": "stream",
     "text": [
      "  [Frame 2 'f': {'x': 1, 'b': 2}]\n",
      "  [Frame 1 'g': {'x': 1}]\n",
      "  [Frame '<module>']\n",
      "\n"
     ]
    }
   ],
   "source": [
    "# Listing 4\n",
    "a = 1\n",
    "def f(x):\n",
    "    b=2\n",
    "    print_frames(inspect.stack())\n",
    "    return b*x\n",
    "def g(x):\n",
    "    return 2*f(x)\n",
    "y = g(a)"
   ]
  },
  {
   "cell_type": "code",
   "execution_count": 8,
   "metadata": {},
   "outputs": [],
   "source": [
    "# Listing 5\n",
    "def f(x):\n",
    "    def g(y):\n",
    "        def h(z):\n",
    "            print_frames(inspect.stack())\n",
    "            return x+z\n",
    "        print_frames(inspect.stack())\n",
    "        return h\n",
    "    print_frames(inspect.stack())\n",
    "    return g"
   ]
  },
  {
   "cell_type": "code",
   "execution_count": 9,
   "metadata": {},
   "outputs": [
    {
     "name": "stdout",
     "output_type": "stream",
     "text": [
      "  [Frame 1 'f': {'g': <function f.<locals>.g at 0x000001FDB5791048>, 'x': 1}]\n",
      "  [Frame '<module>']\n",
      "\n",
      "  [Frame 1 'g': {'y': 2, 'h': <function f.<locals>.g.<locals>.h at 0x000001FDB5845AE8>, 'x': 1}]\n",
      "  [Frame '<module>']\n",
      "\n",
      "  [Frame 1 'h': {'z': 3, 'x': 1}]\n",
      "  [Frame '<module>']\n",
      "\n"
     ]
    },
    {
     "data": {
      "text/plain": [
       "4"
      ]
     },
     "execution_count": 9,
     "metadata": {},
     "output_type": "execute_result"
    }
   ],
   "source": [
    "f(1)(2)(3)"
   ]
  },
  {
   "cell_type": "code",
   "execution_count": 10,
   "metadata": {},
   "outputs": [
    {
     "name": "stdout",
     "output_type": "stream",
     "text": [
      "<code object f at 0x000001FDB58444B0, file \"<ipython-input-10-59b0f6ccb32a>\", line 4> \n",
      "\n",
      "<frame at 0x000001FDB5223188, file '<ipython-input-10-59b0f6ccb32a>', line 10, code <module>> \n",
      "\n",
      "{'x': 1, 'b': 2}\n"
     ]
    }
   ],
   "source": [
    "# Listing 6\n",
    "import sys\n",
    "a = 1\n",
    "def f(x):\n",
    "    b=2\n",
    "    print(sys._getframe().f_code, \"\\n\")\n",
    "    print(sys._getframe().f_back, \"\\n\")\n",
    "    print(sys._getframe().f_locals)\n",
    "    return x+b\n",
    "y = f(a)"
   ]
  },
  {
   "cell_type": "code",
   "execution_count": 11,
   "metadata": {},
   "outputs": [],
   "source": [
    "# Listing 7\n",
    "def fact(n):\n",
    "    if n==0:\n",
    "        return 1\n",
    "    else:\n",
    "        return n*fact(n-1)"
   ]
  },
  {
   "cell_type": "code",
   "execution_count": 12,
   "metadata": {},
   "outputs": [],
   "source": [
    "# Listing 8\n",
    "def fact(n):\n",
    "    if n==0:\n",
    "        print(\"fact({}) called:\".format(n))\n",
    "        print_frames(inspect.stack())\n",
    "        print(\"fact({}) returned {}\".format(n, 1))\n",
    "        return 1\n",
    "    else:\n",
    "        print(\"fact({}) called:\".format(n))\n",
    "        print_frames(inspect.stack())\n",
    "        result = n*fact(n-1)\n",
    "        print_frames(inspect.stack())\n",
    "        print(\"fact({}) returned {}\".format(n, result))\n",
    "        return result"
   ]
  },
  {
   "cell_type": "code",
   "execution_count": 13,
   "metadata": {},
   "outputs": [
    {
     "name": "stdout",
     "output_type": "stream",
     "text": [
      "fact(3) called:\n",
      "  [Frame 1 'fact': {'n': 3}]\n",
      "  [Frame '<module>']\n",
      "\n",
      "fact(2) called:\n",
      "  [Frame 2 'fact': {'n': 2}]\n",
      "  [Frame 1 'fact': {'n': 3}]\n",
      "  [Frame '<module>']\n",
      "\n",
      "fact(1) called:\n",
      "  [Frame 3 'fact': {'n': 1}]\n",
      "  [Frame 2 'fact': {'n': 2}]\n",
      "  [Frame 1 'fact': {'n': 3}]\n",
      "  [Frame '<module>']\n",
      "\n",
      "fact(0) called:\n",
      "  [Frame 4 'fact': {'n': 0}]\n",
      "  [Frame 3 'fact': {'n': 1}]\n",
      "  [Frame 2 'fact': {'n': 2}]\n",
      "  [Frame 1 'fact': {'n': 3}]\n",
      "  [Frame '<module>']\n",
      "\n",
      "fact(0) returned 1\n",
      "  [Frame 3 'fact': {'n': 1, 'result': 1}]\n",
      "  [Frame 2 'fact': {'n': 2}]\n",
      "  [Frame 1 'fact': {'n': 3}]\n",
      "  [Frame '<module>']\n",
      "\n",
      "fact(1) returned 1\n",
      "  [Frame 2 'fact': {'n': 2, 'result': 2}]\n",
      "  [Frame 1 'fact': {'n': 3}]\n",
      "  [Frame '<module>']\n",
      "\n",
      "fact(2) returned 2\n",
      "  [Frame 1 'fact': {'n': 3, 'result': 6}]\n",
      "  [Frame '<module>']\n",
      "\n",
      "fact(3) returned 6\n"
     ]
    },
    {
     "data": {
      "text/plain": [
       "6"
      ]
     },
     "execution_count": 13,
     "metadata": {},
     "output_type": "execute_result"
    }
   ],
   "source": [
    "fact(3)"
   ]
  },
  {
   "cell_type": "code",
   "execution_count": 14,
   "metadata": {},
   "outputs": [
    {
     "ename": "RecursionError",
     "evalue": "maximum recursion depth exceeded in comparison",
     "output_type": "error",
     "traceback": [
      "\u001b[1;31m---------------------------------------------------------------------------\u001b[0m",
      "\u001b[1;31mRecursionError\u001b[0m                            Traceback (most recent call last)",
      "\u001b[1;32m<ipython-input-14-20e8a0640d8f>\u001b[0m in \u001b[0;36m<module>\u001b[1;34m\u001b[0m\n\u001b[0;32m      5\u001b[0m     \u001b[1;32melse\u001b[0m\u001b[1;33m:\u001b[0m\u001b[1;33m\u001b[0m\u001b[1;33m\u001b[0m\u001b[0m\n\u001b[0;32m      6\u001b[0m         \u001b[1;32mreturn\u001b[0m \u001b[0mn\u001b[0m\u001b[1;33m*\u001b[0m\u001b[0mfact\u001b[0m\u001b[1;33m(\u001b[0m\u001b[0mn\u001b[0m\u001b[1;33m-\u001b[0m\u001b[1;36m1\u001b[0m\u001b[1;33m)\u001b[0m\u001b[1;33m\u001b[0m\u001b[1;33m\u001b[0m\u001b[0m\n\u001b[1;32m----> 7\u001b[1;33m \u001b[0mprint\u001b[0m\u001b[1;33m(\u001b[0m\u001b[0mfact\u001b[0m\u001b[1;33m(\u001b[0m\u001b[1;36m3000\u001b[0m\u001b[1;33m)\u001b[0m\u001b[1;33m)\u001b[0m\u001b[1;33m\u001b[0m\u001b[1;33m\u001b[0m\u001b[0m\n\u001b[0m",
      "\u001b[1;32m<ipython-input-14-20e8a0640d8f>\u001b[0m in \u001b[0;36mfact\u001b[1;34m(n)\u001b[0m\n\u001b[0;32m      4\u001b[0m         \u001b[1;32mreturn\u001b[0m \u001b[1;36m1\u001b[0m\u001b[1;33m\u001b[0m\u001b[1;33m\u001b[0m\u001b[0m\n\u001b[0;32m      5\u001b[0m     \u001b[1;32melse\u001b[0m\u001b[1;33m:\u001b[0m\u001b[1;33m\u001b[0m\u001b[1;33m\u001b[0m\u001b[0m\n\u001b[1;32m----> 6\u001b[1;33m         \u001b[1;32mreturn\u001b[0m \u001b[0mn\u001b[0m\u001b[1;33m*\u001b[0m\u001b[0mfact\u001b[0m\u001b[1;33m(\u001b[0m\u001b[0mn\u001b[0m\u001b[1;33m-\u001b[0m\u001b[1;36m1\u001b[0m\u001b[1;33m)\u001b[0m\u001b[1;33m\u001b[0m\u001b[1;33m\u001b[0m\u001b[0m\n\u001b[0m\u001b[0;32m      7\u001b[0m \u001b[0mprint\u001b[0m\u001b[1;33m(\u001b[0m\u001b[0mfact\u001b[0m\u001b[1;33m(\u001b[0m\u001b[1;36m3000\u001b[0m\u001b[1;33m)\u001b[0m\u001b[1;33m)\u001b[0m\u001b[1;33m\u001b[0m\u001b[1;33m\u001b[0m\u001b[0m\n",
      "... last 1 frames repeated, from the frame below ...\n",
      "\u001b[1;32m<ipython-input-14-20e8a0640d8f>\u001b[0m in \u001b[0;36mfact\u001b[1;34m(n)\u001b[0m\n\u001b[0;32m      4\u001b[0m         \u001b[1;32mreturn\u001b[0m \u001b[1;36m1\u001b[0m\u001b[1;33m\u001b[0m\u001b[1;33m\u001b[0m\u001b[0m\n\u001b[0;32m      5\u001b[0m     \u001b[1;32melse\u001b[0m\u001b[1;33m:\u001b[0m\u001b[1;33m\u001b[0m\u001b[1;33m\u001b[0m\u001b[0m\n\u001b[1;32m----> 6\u001b[1;33m         \u001b[1;32mreturn\u001b[0m \u001b[0mn\u001b[0m\u001b[1;33m*\u001b[0m\u001b[0mfact\u001b[0m\u001b[1;33m(\u001b[0m\u001b[0mn\u001b[0m\u001b[1;33m-\u001b[0m\u001b[1;36m1\u001b[0m\u001b[1;33m)\u001b[0m\u001b[1;33m\u001b[0m\u001b[1;33m\u001b[0m\u001b[0m\n\u001b[0m\u001b[0;32m      7\u001b[0m \u001b[0mprint\u001b[0m\u001b[1;33m(\u001b[0m\u001b[0mfact\u001b[0m\u001b[1;33m(\u001b[0m\u001b[1;36m3000\u001b[0m\u001b[1;33m)\u001b[0m\u001b[1;33m)\u001b[0m\u001b[1;33m\u001b[0m\u001b[1;33m\u001b[0m\u001b[0m\n",
      "\u001b[1;31mRecursionError\u001b[0m: maximum recursion depth exceeded in comparison"
     ]
    }
   ],
   "source": [
    "# This will not run:\n",
    "def fact(n):\n",
    "    if n==0:\n",
    "        return 1\n",
    "    else:\n",
    "        return n*fact(n-1)\n",
    "print(fact(3000))"
   ]
  },
  {
   "cell_type": "markdown",
   "metadata": {},
   "source": [
    "#### Tail recursion"
   ]
  },
  {
   "cell_type": "code",
   "execution_count": 15,
   "metadata": {},
   "outputs": [
    {
     "data": {
      "text/plain": [
       "24"
      ]
     },
     "execution_count": 15,
     "metadata": {},
     "output_type": "execute_result"
    }
   ],
   "source": [
    "# Listing 10\n",
    "def fact1(n, acc=1):\n",
    "    if n == 0:\n",
    "        return acc\n",
    "    else:\n",
    "        return fact1(n-1, n*acc) \n",
    "fact1(4, 1)"
   ]
  },
  {
   "cell_type": "code",
   "execution_count": 16,
   "metadata": {},
   "outputs": [],
   "source": [
    "# Listing 11\n",
    "def fact1(n, acc=1):\n",
    "    if n == 0:\n",
    "        print(\"fact1({},{}) called:\".format(n, acc))\n",
    "        print_frames(inspect.stack())\n",
    "        print(\"fact1({0},{1}) returned {1}\".format(n, acc))\n",
    "        return acc\n",
    "    else:\n",
    "        print(\"fact1({},{}) called:\".format(n, acc))\n",
    "        print_frames(inspect.stack())\n",
    "        result = fact1(n-1, n*acc) \n",
    "        print_frames(inspect.stack())\n",
    "        print(\"fact1({},{}) returned {}\".format(n, acc, result))\n",
    "        return result"
   ]
  },
  {
   "cell_type": "code",
   "execution_count": 17,
   "metadata": {},
   "outputs": [
    {
     "name": "stdout",
     "output_type": "stream",
     "text": [
      "fact1(3,1) called:\n",
      "  [Frame 1 'fact1': {'n': 3, 'acc': 1}]\n",
      "  [Frame '<module>']\n",
      "\n",
      "fact1(2,3) called:\n",
      "  [Frame 2 'fact1': {'n': 2, 'acc': 3}]\n",
      "  [Frame 1 'fact1': {'n': 3, 'acc': 1}]\n",
      "  [Frame '<module>']\n",
      "\n",
      "fact1(1,6) called:\n",
      "  [Frame 3 'fact1': {'n': 1, 'acc': 6}]\n",
      "  [Frame 2 'fact1': {'n': 2, 'acc': 3}]\n",
      "  [Frame 1 'fact1': {'n': 3, 'acc': 1}]\n",
      "  [Frame '<module>']\n",
      "\n",
      "fact1(0,6) called:\n",
      "  [Frame 4 'fact1': {'n': 0, 'acc': 6}]\n",
      "  [Frame 3 'fact1': {'n': 1, 'acc': 6}]\n",
      "  [Frame 2 'fact1': {'n': 2, 'acc': 3}]\n",
      "  [Frame 1 'fact1': {'n': 3, 'acc': 1}]\n",
      "  [Frame '<module>']\n",
      "\n",
      "fact1(0,6) returned 6\n",
      "  [Frame 3 'fact1': {'n': 1, 'acc': 6, 'result': 6}]\n",
      "  [Frame 2 'fact1': {'n': 2, 'acc': 3}]\n",
      "  [Frame 1 'fact1': {'n': 3, 'acc': 1}]\n",
      "  [Frame '<module>']\n",
      "\n",
      "fact1(1,6) returned 6\n",
      "  [Frame 2 'fact1': {'n': 2, 'acc': 3, 'result': 6}]\n",
      "  [Frame 1 'fact1': {'n': 3, 'acc': 1}]\n",
      "  [Frame '<module>']\n",
      "\n",
      "fact1(2,3) returned 6\n",
      "  [Frame 1 'fact1': {'n': 3, 'acc': 1, 'result': 6}]\n",
      "  [Frame '<module>']\n",
      "\n",
      "fact1(3,1) returned 6\n"
     ]
    },
    {
     "data": {
      "text/plain": [
       "6"
      ]
     },
     "execution_count": 17,
     "metadata": {},
     "output_type": "execute_result"
    }
   ],
   "source": [
    "fact1(3,1)"
   ]
  },
  {
   "cell_type": "markdown",
   "metadata": {},
   "source": [
    "#### Tail-call optimization"
   ]
  },
  {
   "cell_type": "code",
   "execution_count": 21,
   "metadata": {},
   "outputs": [
    {
     "name": "stdout",
     "output_type": "stream",
     "text": [
      "24\n"
     ]
    }
   ],
   "source": [
    "# Listing 13\n",
    "def fact2(n, acc=1):\n",
    "    while True:\n",
    "        if n == 0:\n",
    "            return acc\n",
    "        else:\n",
    "            acc = n * acc\n",
    "            n = n - 1\n",
    "print(fact(4))"
   ]
  },
  {
   "cell_type": "markdown",
   "metadata": {},
   "source": [
    "#### Tail-call optimization using stack frames"
   ]
  },
  {
   "cell_type": "code",
   "execution_count": 22,
   "metadata": {},
   "outputs": [],
   "source": [
    "# Listing 14\n",
    "def tail_rec(func):\n",
    "    rec_flag = False\n",
    "    targs = []\n",
    "    tkwargs = []\n",
    "    def helper(*args, **kwargs):\n",
    "        nonlocal rec_flag\n",
    "        nonlocal targs\n",
    "        nonlocal tkwargs \n",
    "        f = inspect.currentframe()\n",
    "        \n",
    "        if  f.f_code == f.f_back.f_back.f_code:\n",
    "            rec_flag = True\n",
    "            targs = args\n",
    "            tkwargs = kwargs\n",
    "            return \n",
    "        else:           \n",
    "            while True:\n",
    "                try:\n",
    "                    result = func(*args, **kwargs)\n",
    "                except TypeError as e:\n",
    "                    raise Exception(\"It is possible that the decorated function is not tail recursive\")\n",
    "                if rec_flag:\n",
    "                    rec_flag = False\n",
    "                    args = targs\n",
    "                    kwargs = tkwargs\n",
    "                else:\n",
    "                    return result \n",
    "    return helper"
   ]
  },
  {
   "cell_type": "code",
   "execution_count": 23,
   "metadata": {},
   "outputs": [
    {
     "data": {
      "text/plain": [
       "24"
      ]
     },
     "execution_count": 23,
     "metadata": {},
     "output_type": "execute_result"
    }
   ],
   "source": [
    "@tail_rec\n",
    "def fact1(n, acc=1):\n",
    "    if n == 0:\n",
    "        return acc\n",
    "    else:\n",
    "        return fact1(n-1, n*acc)\n",
    "        \n",
    "fact1(4)"
   ]
  },
  {
   "cell_type": "code",
   "execution_count": 24,
   "metadata": {},
   "outputs": [
    {
     "data": {
      "text/plain": [
       "24"
      ]
     },
     "execution_count": 24,
     "metadata": {},
     "output_type": "execute_result"
    }
   ],
   "source": [
    "# You can have you can have some statements after the recursive call\n",
    "# as long as there is no computation on the returned value of the recursive call.\n",
    "@tail_rec\n",
    "def fact1(n, acc=1):\n",
    "    if n == 0:\n",
    "        return acc\n",
    "    else:\n",
    "        result = fact1(n-1, n*acc)\n",
    "        return result\n",
    "fact1(4)"
   ]
  },
  {
   "cell_type": "code",
   "execution_count": 26,
   "metadata": {},
   "outputs": [
    {
     "ename": "Exception",
     "evalue": "It is possible that the decorated function is not tail recursive",
     "output_type": "error",
     "traceback": [
      "\u001b[1;31m---------------------------------------------------------------------------\u001b[0m",
      "\u001b[1;31mTypeError\u001b[0m                                 Traceback (most recent call last)",
      "\u001b[1;32m<ipython-input-22-814e2b30cb5d>\u001b[0m in \u001b[0;36mhelper\u001b[1;34m(*args, **kwargs)\u001b[0m\n\u001b[0;32m     19\u001b[0m                 \u001b[1;32mtry\u001b[0m\u001b[1;33m:\u001b[0m\u001b[1;33m\u001b[0m\u001b[1;33m\u001b[0m\u001b[0m\n\u001b[1;32m---> 20\u001b[1;33m                     \u001b[0mresult\u001b[0m \u001b[1;33m=\u001b[0m \u001b[0mfunc\u001b[0m\u001b[1;33m(\u001b[0m\u001b[1;33m*\u001b[0m\u001b[0margs\u001b[0m\u001b[1;33m,\u001b[0m \u001b[1;33m**\u001b[0m\u001b[0mkwargs\u001b[0m\u001b[1;33m)\u001b[0m\u001b[1;33m\u001b[0m\u001b[1;33m\u001b[0m\u001b[0m\n\u001b[0m\u001b[0;32m     21\u001b[0m                 \u001b[1;32mexcept\u001b[0m \u001b[0mTypeError\u001b[0m \u001b[1;32mas\u001b[0m \u001b[0me\u001b[0m\u001b[1;33m:\u001b[0m\u001b[1;33m\u001b[0m\u001b[1;33m\u001b[0m\u001b[0m\n",
      "\u001b[1;32m<ipython-input-26-29ca5acaca7f>\u001b[0m in \u001b[0;36mfact\u001b[1;34m(n)\u001b[0m\n\u001b[0;32m      6\u001b[0m     \u001b[1;32melse\u001b[0m\u001b[1;33m:\u001b[0m\u001b[1;33m\u001b[0m\u001b[1;33m\u001b[0m\u001b[0m\n\u001b[1;32m----> 7\u001b[1;33m         \u001b[1;32mreturn\u001b[0m \u001b[0mn\u001b[0m\u001b[1;33m*\u001b[0m\u001b[0mfact\u001b[0m\u001b[1;33m(\u001b[0m\u001b[0mn\u001b[0m\u001b[1;33m-\u001b[0m\u001b[1;36m1\u001b[0m\u001b[1;33m)\u001b[0m\u001b[1;33m\u001b[0m\u001b[1;33m\u001b[0m\u001b[0m\n\u001b[0m\u001b[0;32m      8\u001b[0m \u001b[0mprint\u001b[0m\u001b[1;33m(\u001b[0m\u001b[0mfact\u001b[0m\u001b[1;33m(\u001b[0m\u001b[1;36m4\u001b[0m\u001b[1;33m)\u001b[0m\u001b[1;33m)\u001b[0m\u001b[1;33m\u001b[0m\u001b[1;33m\u001b[0m\u001b[0m\n",
      "\u001b[1;31mTypeError\u001b[0m: unsupported operand type(s) for *: 'int' and 'NoneType'",
      "\nDuring handling of the above exception, another exception occurred:\n",
      "\u001b[1;31mException\u001b[0m                                 Traceback (most recent call last)",
      "\u001b[1;32m<ipython-input-26-29ca5acaca7f>\u001b[0m in \u001b[0;36m<module>\u001b[1;34m\u001b[0m\n\u001b[0;32m      6\u001b[0m     \u001b[1;32melse\u001b[0m\u001b[1;33m:\u001b[0m\u001b[1;33m\u001b[0m\u001b[1;33m\u001b[0m\u001b[0m\n\u001b[0;32m      7\u001b[0m         \u001b[1;32mreturn\u001b[0m \u001b[0mn\u001b[0m\u001b[1;33m*\u001b[0m\u001b[0mfact\u001b[0m\u001b[1;33m(\u001b[0m\u001b[0mn\u001b[0m\u001b[1;33m-\u001b[0m\u001b[1;36m1\u001b[0m\u001b[1;33m)\u001b[0m\u001b[1;33m\u001b[0m\u001b[1;33m\u001b[0m\u001b[0m\n\u001b[1;32m----> 8\u001b[1;33m \u001b[0mprint\u001b[0m\u001b[1;33m(\u001b[0m\u001b[0mfact\u001b[0m\u001b[1;33m(\u001b[0m\u001b[1;36m4\u001b[0m\u001b[1;33m)\u001b[0m\u001b[1;33m)\u001b[0m\u001b[1;33m\u001b[0m\u001b[1;33m\u001b[0m\u001b[0m\n\u001b[0m",
      "\u001b[1;32m<ipython-input-22-814e2b30cb5d>\u001b[0m in \u001b[0;36mhelper\u001b[1;34m(*args, **kwargs)\u001b[0m\n\u001b[0;32m     20\u001b[0m                     \u001b[0mresult\u001b[0m \u001b[1;33m=\u001b[0m \u001b[0mfunc\u001b[0m\u001b[1;33m(\u001b[0m\u001b[1;33m*\u001b[0m\u001b[0margs\u001b[0m\u001b[1;33m,\u001b[0m \u001b[1;33m**\u001b[0m\u001b[0mkwargs\u001b[0m\u001b[1;33m)\u001b[0m\u001b[1;33m\u001b[0m\u001b[1;33m\u001b[0m\u001b[0m\n\u001b[0;32m     21\u001b[0m                 \u001b[1;32mexcept\u001b[0m \u001b[0mTypeError\u001b[0m \u001b[1;32mas\u001b[0m \u001b[0me\u001b[0m\u001b[1;33m:\u001b[0m\u001b[1;33m\u001b[0m\u001b[1;33m\u001b[0m\u001b[0m\n\u001b[1;32m---> 22\u001b[1;33m                     \u001b[1;32mraise\u001b[0m \u001b[0mException\u001b[0m\u001b[1;33m(\u001b[0m\u001b[1;34m\"It is possible that the decorated function is not tail recursive\"\u001b[0m\u001b[1;33m)\u001b[0m\u001b[1;33m\u001b[0m\u001b[1;33m\u001b[0m\u001b[0m\n\u001b[0m\u001b[0;32m     23\u001b[0m                 \u001b[1;32mif\u001b[0m \u001b[0mrec_flag\u001b[0m\u001b[1;33m:\u001b[0m\u001b[1;33m\u001b[0m\u001b[1;33m\u001b[0m\u001b[0m\n\u001b[0;32m     24\u001b[0m                     \u001b[0mrec_flag\u001b[0m \u001b[1;33m=\u001b[0m \u001b[1;32mFalse\u001b[0m\u001b[1;33m\u001b[0m\u001b[1;33m\u001b[0m\u001b[0m\n",
      "\u001b[1;31mException\u001b[0m: It is possible that the decorated function is not tail recursive"
     ]
    }
   ],
   "source": [
    "# This does not work\n",
    "@tail_rec\n",
    "def fact(n):\n",
    "    if n==0:\n",
    "        return 1\n",
    "    else:\n",
    "        return n*fact(n-1)\n",
    "print(fact(4))"
   ]
  },
  {
   "cell_type": "markdown",
   "metadata": {},
   "source": [
    "#### Tail-call optimization using bytecode injection"
   ]
  },
  {
   "cell_type": "markdown",
   "metadata": {},
   "source": [
    "tail_resursion decorator has been defiend in tailrec.py"
   ]
  },
  {
   "cell_type": "code",
   "execution_count": 35,
   "metadata": {},
   "outputs": [
    {
     "data": {
      "text/plain": [
       "24"
      ]
     },
     "execution_count": 35,
     "metadata": {},
     "output_type": "execute_result"
    }
   ],
   "source": [
    "@tail_recursion\n",
    "def fact1(n, acc=1):\n",
    "    if n == 0:\n",
    "        return acc\n",
    "    else:\n",
    "        return fact1(n-1, n*acc)\n",
    "        \n",
    "fact1(4)"
   ]
  },
  {
   "cell_type": "code",
   "execution_count": 36,
   "metadata": {},
   "outputs": [
    {
     "ename": "Exception",
     "evalue": "The decorated function is not tail-recursive",
     "output_type": "error",
     "traceback": [
      "\u001b[1;31m---------------------------------------------------------------------------\u001b[0m",
      "\u001b[1;31mException\u001b[0m                                 Traceback (most recent call last)",
      "\u001b[1;32m<ipython-input-36-c25a710a5339>\u001b[0m in \u001b[0;36m<module>\u001b[1;34m\u001b[0m\n\u001b[0;32m      1\u001b[0m \u001b[1;31m# This does not work:\u001b[0m\u001b[1;33m\u001b[0m\u001b[1;33m\u001b[0m\u001b[1;33m\u001b[0m\u001b[0m\n\u001b[1;32m----> 2\u001b[1;33m \u001b[1;33m@\u001b[0m\u001b[0mtail_recursion\u001b[0m\u001b[1;33m\u001b[0m\u001b[1;33m\u001b[0m\u001b[0m\n\u001b[0m\u001b[0;32m      3\u001b[0m \u001b[1;32mdef\u001b[0m \u001b[0mfact\u001b[0m\u001b[1;33m(\u001b[0m\u001b[0mn\u001b[0m\u001b[1;33m)\u001b[0m\u001b[1;33m:\u001b[0m\u001b[1;33m\u001b[0m\u001b[1;33m\u001b[0m\u001b[0m\n\u001b[0;32m      4\u001b[0m     \u001b[1;32mif\u001b[0m \u001b[0mn\u001b[0m\u001b[1;33m==\u001b[0m\u001b[1;36m0\u001b[0m\u001b[1;33m:\u001b[0m\u001b[1;33m\u001b[0m\u001b[1;33m\u001b[0m\u001b[0m\n\u001b[0;32m      5\u001b[0m         \u001b[1;32mreturn\u001b[0m \u001b[1;36m1\u001b[0m\u001b[1;33m\u001b[0m\u001b[1;33m\u001b[0m\u001b[0m\n",
      "\u001b[1;32m~\\Desktop\\Tail rec\\tail-rec\\tailrec.py\u001b[0m in \u001b[0;36mtail_recursion\u001b[1;34m(f)\u001b[0m\n\u001b[0;32m    310\u001b[0m                     \u001b[1;32mbreak\u001b[0m\u001b[1;33m\u001b[0m\u001b[1;33m\u001b[0m\u001b[0m\n\u001b[0;32m    311\u001b[0m             \u001b[1;32mif\u001b[0m \u001b[0mtail_rec_flag\u001b[0m \u001b[1;33m==\u001b[0m \u001b[1;32mFalse\u001b[0m\u001b[1;33m:\u001b[0m\u001b[1;33m\u001b[0m\u001b[1;33m\u001b[0m\u001b[0m\n\u001b[1;32m--> 312\u001b[1;33m                 \u001b[1;32mraise\u001b[0m \u001b[0mException\u001b[0m\u001b[1;33m(\u001b[0m\u001b[1;34m\"The decorated function is not tail-recursive\"\u001b[0m\u001b[1;33m)\u001b[0m\u001b[1;33m\u001b[0m\u001b[1;33m\u001b[0m\u001b[0m\n\u001b[0m\u001b[0;32m    313\u001b[0m         \u001b[0mi\u001b[0m \u001b[1;33m+=\u001b[0m \u001b[1;36m1\u001b[0m\u001b[1;33m\u001b[0m\u001b[1;33m\u001b[0m\u001b[0m\n\u001b[0;32m    314\u001b[0m \u001b[1;33m\u001b[0m\u001b[0m\n",
      "\u001b[1;31mException\u001b[0m: The decorated function is not tail-recursive"
     ]
    }
   ],
   "source": [
    "# This does not work:\n",
    "@tail_recursion\n",
    "def fact(n):\n",
    "    if n==0:\n",
    "        return 1\n",
    "    else:\n",
    "        return n*fact(n-1)\n",
    "print(fact(3))"
   ]
  },
  {
   "cell_type": "code",
   "execution_count": 37,
   "metadata": {},
   "outputs": [
    {
     "ename": "Exception",
     "evalue": "The decorated function is not tail-recursive",
     "output_type": "error",
     "traceback": [
      "\u001b[1;31m---------------------------------------------------------------------------\u001b[0m",
      "\u001b[1;31mException\u001b[0m                                 Traceback (most recent call last)",
      "\u001b[1;32m<ipython-input-37-eb3a8cf4174d>\u001b[0m in \u001b[0;36m<module>\u001b[1;34m\u001b[0m\n\u001b[0;32m      2\u001b[0m \u001b[1;31m# So this does not work too\u001b[0m\u001b[1;33m\u001b[0m\u001b[1;33m\u001b[0m\u001b[1;33m\u001b[0m\u001b[0m\n\u001b[0;32m      3\u001b[0m \u001b[1;33m@\u001b[0m\u001b[0mtail_recursion\u001b[0m\u001b[1;33m\u001b[0m\u001b[1;33m\u001b[0m\u001b[0m\n\u001b[1;32m----> 4\u001b[1;33m \u001b[1;32mdef\u001b[0m \u001b[0mfact2\u001b[0m\u001b[1;33m(\u001b[0m\u001b[0mn\u001b[0m\u001b[1;33m,\u001b[0m \u001b[0macc\u001b[0m\u001b[1;33m=\u001b[0m\u001b[1;36m1\u001b[0m\u001b[1;33m)\u001b[0m\u001b[1;33m:\u001b[0m\u001b[1;33m\u001b[0m\u001b[1;33m\u001b[0m\u001b[0m\n\u001b[0m\u001b[0;32m      5\u001b[0m     \u001b[1;32mif\u001b[0m \u001b[0mn\u001b[0m \u001b[1;33m==\u001b[0m \u001b[1;36m0\u001b[0m\u001b[1;33m:\u001b[0m\u001b[1;33m\u001b[0m\u001b[1;33m\u001b[0m\u001b[0m\n\u001b[0;32m      6\u001b[0m         \u001b[1;32mreturn\u001b[0m \u001b[0macc\u001b[0m\u001b[1;33m\u001b[0m\u001b[1;33m\u001b[0m\u001b[0m\n",
      "\u001b[1;32m~\\Desktop\\Tail rec\\tail-rec\\tailrec.py\u001b[0m in \u001b[0;36mtail_recursion\u001b[1;34m(f)\u001b[0m\n\u001b[0;32m    310\u001b[0m                     \u001b[1;32mbreak\u001b[0m\u001b[1;33m\u001b[0m\u001b[1;33m\u001b[0m\u001b[0m\n\u001b[0;32m    311\u001b[0m             \u001b[1;32mif\u001b[0m \u001b[0mtail_rec_flag\u001b[0m \u001b[1;33m==\u001b[0m \u001b[1;32mFalse\u001b[0m\u001b[1;33m:\u001b[0m\u001b[1;33m\u001b[0m\u001b[1;33m\u001b[0m\u001b[0m\n\u001b[1;32m--> 312\u001b[1;33m                 \u001b[1;32mraise\u001b[0m \u001b[0mException\u001b[0m\u001b[1;33m(\u001b[0m\u001b[1;34m\"The decorated function is not tail-recursive\"\u001b[0m\u001b[1;33m)\u001b[0m\u001b[1;33m\u001b[0m\u001b[1;33m\u001b[0m\u001b[0m\n\u001b[0m\u001b[0;32m    313\u001b[0m         \u001b[0mi\u001b[0m \u001b[1;33m+=\u001b[0m \u001b[1;36m1\u001b[0m\u001b[1;33m\u001b[0m\u001b[1;33m\u001b[0m\u001b[0m\n\u001b[0;32m    314\u001b[0m \u001b[1;33m\u001b[0m\u001b[0m\n",
      "\u001b[1;31mException\u001b[0m: The decorated function is not tail-recursive"
     ]
    }
   ],
   "source": [
    "# Here no instructions are allowed after the recursive call\n",
    "# So this does not work too\n",
    "@tail_recursion\n",
    "def fact2(n, acc=1):\n",
    "    if n == 0:\n",
    "        return acc\n",
    "    else:\n",
    "        result = fact2(n-1, n*acc)\n",
    "        return result\n",
    "fact1(4)"
   ]
  },
  {
   "cell_type": "code",
   "execution_count": 31,
   "metadata": {},
   "outputs": [],
   "source": [
    "@tail_rec\n",
    "def fact_1(n, acc=1):\n",
    "    if n == 0:\n",
    "        return acc\n",
    "    else:\n",
    "        return fact_1(n-1, n*acc)\n",
    "    \n",
    "@tail_recursion\n",
    "def fact_2(n, acc=1):\n",
    "    if n == 0:\n",
    "        return acc\n",
    "    else:\n",
    "        return fact_2(n-1, n*acc)\n",
    "        \n",
    "\n",
    "def s1():\n",
    "    return fact_1(15)\n",
    "\n",
    "def s2():\n",
    "    return fact_2(15)"
   ]
  },
  {
   "cell_type": "code",
   "execution_count": 32,
   "metadata": {},
   "outputs": [
    {
     "name": "stdout",
     "output_type": "stream",
     "text": [
      "Running time (tail-call optimization using stack frames)= 2.47\n",
      "Running time (tail-call optimization using bytecode injection)= 0.155\n"
     ]
    }
   ],
   "source": [
    "t1 = timeit.timeit(s1, number=100000)\n",
    "t2 = timeit.timeit(s2, number=100000)\n",
    "print(\"Running time (tail-call optimization using stack frames)=\", round(t1, 3))\n",
    "print(\"Running time (tail-call optimization using bytecode injection)=\", round(t2, 3))"
   ]
  },
  {
   "cell_type": "code",
   "execution_count": null,
   "metadata": {},
   "outputs": [],
   "source": []
  }
 ],
 "metadata": {
  "kernelspec": {
   "display_name": "Python 3",
   "language": "python",
   "name": "python3"
  },
  "language_info": {
   "codemirror_mode": {
    "name": "ipython",
    "version": 3
   },
   "file_extension": ".py",
   "mimetype": "text/x-python",
   "name": "python",
   "nbconvert_exporter": "python",
   "pygments_lexer": "ipython3",
   "version": "3.7.1"
  }
 },
 "nbformat": 4,
 "nbformat_minor": 2
}
